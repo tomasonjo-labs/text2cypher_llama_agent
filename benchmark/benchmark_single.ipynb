{
 "cells": [
  {
   "cell_type": "code",
   "execution_count": 1,
   "id": "bc911b0b-4e15-401e-9875-e43c25470daa",
   "metadata": {},
   "outputs": [],
   "source": [
    "import sys\n",
    "import os\n",
    "\n",
    "# Insert the parent directory of \"app\" into sys.path\n",
    "# so that Python recognizes \"app\" as an importable package.\n",
    "notebook_dir = os.path.dirname(os.path.abspath(\"__file__\"))\n",
    "parent_dir = os.path.abspath(os.path.join(notebook_dir, \"..\"))\n",
    "sys.path.append(parent_dir)"
   ]
  },
  {
   "cell_type": "code",
   "execution_count": 2,
   "id": "85258025-55e3-45db-b6a5-29004264c7c5",
   "metadata": {},
   "outputs": [
    {
     "data": {
      "text/plain": [
       "True"
      ]
     },
     "execution_count": 2,
     "metadata": {},
     "output_type": "execute_result"
    }
   ],
   "source": [
    "from dotenv import load_dotenv\n",
    "load_dotenv()  # This looks for .env in the current working directory"
   ]
  },
  {
   "cell_type": "code",
   "execution_count": 3,
   "id": "70278d01-fe4a-47fe-91e5-ff91b67a046d",
   "metadata": {},
   "outputs": [
    {
     "name": "stderr",
     "output_type": "stream",
     "text": [
      "/Users/tomazbratanic/anaconda3/lib/python3.11/site-packages/pandas/core/arrays/masked.py:60: UserWarning: Pandas requires version '1.3.6' or newer of 'bottleneck' (version '1.3.5' currently installed).\n",
      "  from pandas.core import (\n",
      "/Users/tomazbratanic/anaconda3/lib/python3.11/site-packages/pydantic/_internal/_fields.py:132: UserWarning: Field \"model_name\" in _VertexAIBase has conflict with protected namespace \"model_\".\n",
      "\n",
      "You may be able to resolve this warning by setting `model_config['protected_namespaces'] = ()`.\n",
      "  warnings.warn(\n",
      "/Users/tomazbratanic/anaconda3/lib/python3.11/site-packages/pydantic/_internal/_fields.py:132: UserWarning: Field \"model_name\" in _VertexAICommon has conflict with protected namespace \"model_\".\n",
      "\n",
      "You may be able to resolve this warning by setting `model_config['protected_namespaces'] = ()`.\n",
      "  warnings.warn(\n"
     ]
    }
   ],
   "source": [
    "import time\n",
    "\n",
    "import pandas as pd\n",
    "import seaborn as sns\n",
    "from datasets import Dataset\n",
    "from ragas import evaluate\n",
    "from ragas.llms import LlamaIndexLLMWrapper\n",
    "from ragas.metrics import (\n",
    "    answer_relevancy,\n",
    "    context_precision,\n",
    "    context_recall,\n",
    "    faithfulness,\n",
    ")\n",
    "from llama_index.llms.openai import OpenAI\n",
    "from tqdm import tqdm\n",
    "\n",
    "from workflows.shared import graph_store\n"
   ]
  },
  {
   "cell_type": "code",
   "execution_count": 6,
   "id": "4329aafd-3e8c-4acb-abdf-fcedd3f95e20",
   "metadata": {},
   "outputs": [],
   "source": [
    "# Import flows\n",
    "from workflows.naive_text2cypher import NaiveText2CypherFlow\n",
    "from workflows.naive_text2cypher_retry import NaiveText2CypherRetryFlow\n",
    "#from workflows.iterative_planner import IterativePlanningFlow"
   ]
  },
  {
   "cell_type": "code",
   "execution_count": 9,
   "id": "da8d1853-1aa5-4712-b95d-f7b6c86cf557",
   "metadata": {},
   "outputs": [
    {
     "name": "stdout",
     "output_type": "stream",
     "text": [
      "<class 'NoneType'>\n",
      "<class 'app.workflows.naive_text2cypher_retry.ExecuteCypherEvent'>\n",
      "<class 'app.workflows.naive_text2cypher_retry.SummarizeEvent'>\n",
      "<class 'app.workflows.naive_text2cypher_retry.CorrectCypherEvent'>\n",
      "<class 'app.workflows.naive_text2cypher_retry.ExecuteCypherEvent'>\n",
      "<class 'llama_index.core.workflow.events.StopEvent'>\n",
      "NaiveText2CypherRetryFlow.html\n"
     ]
    }
   ],
   "source": [
    "from llama_index.utils.workflow import (\n",
    "    draw_all_possible_flows,\n",
    ")\n",
    "\n",
    "# Draw all\n",
    "draw_all_possible_flows(NaiveText2CypherRetryFlow(), filename=f\"{NaiveText2CypherRetryFlow.__name__}.html\")"
   ]
  },
  {
   "cell_type": "code",
   "execution_count": 5,
   "id": "041de039-c410-417f-bec2-9b92a70cdf82",
   "metadata": {},
   "outputs": [
    {
     "data": {
      "text/html": [
       "<div>\n",
       "<style scoped>\n",
       "    .dataframe tbody tr th:only-of-type {\n",
       "        vertical-align: middle;\n",
       "    }\n",
       "\n",
       "    .dataframe tbody tr th {\n",
       "        vertical-align: top;\n",
       "    }\n",
       "\n",
       "    .dataframe thead th {\n",
       "        text-align: right;\n",
       "    }\n",
       "</style>\n",
       "<table border=\"1\" class=\"dataframe\">\n",
       "  <thead>\n",
       "    <tr style=\"text-align: right;\">\n",
       "      <th></th>\n",
       "      <th>Question</th>\n",
       "      <th>Cypher</th>\n",
       "    </tr>\n",
       "  </thead>\n",
       "  <tbody>\n",
       "    <tr>\n",
       "      <th>0</th>\n",
       "      <td>Who acted in Tom Hanks’s highest-rated movie?</td>\n",
       "      <td>MATCH (p:Person {name: 'Tom Hanks'})-[:ACTED_I...</td>\n",
       "    </tr>\n",
       "    <tr>\n",
       "      <th>1</th>\n",
       "      <td>Which movie starring Keanu Reeves has the most...</td>\n",
       "      <td>MATCH (meg:Actor {name: \"Keanu Reeves\"})-[:ACT...</td>\n",
       "    </tr>\n",
       "    <tr>\n",
       "      <th>2</th>\n",
       "      <td>Who directed the most recent movie starring Ha...</td>\n",
       "      <td>MATCH (p:Person {name: \"Halle Berry\"})-[:ACTED...</td>\n",
       "    </tr>\n",
       "    <tr>\n",
       "      <th>3</th>\n",
       "      <td>What is the highest-rated movie from the 1990s...</td>\n",
       "      <td>MATCH (m:Movie)-[:DIRECTED]-(d:Person) WHERE m...</td>\n",
       "    </tr>\n",
       "    <tr>\n",
       "      <th>4</th>\n",
       "      <td>For all movies starring Keanu Reeves, find the...</td>\n",
       "      <td>MATCH (keanu:Person {name: \"Keanu Reeves\"})-[:...</td>\n",
       "    </tr>\n",
       "  </tbody>\n",
       "</table>\n",
       "</div>"
      ],
      "text/plain": [
       "                                            Question  \\\n",
       "0      Who acted in Tom Hanks’s highest-rated movie?   \n",
       "1  Which movie starring Keanu Reeves has the most...   \n",
       "2  Who directed the most recent movie starring Ha...   \n",
       "3  What is the highest-rated movie from the 1990s...   \n",
       "4  For all movies starring Keanu Reeves, find the...   \n",
       "\n",
       "                                              Cypher  \n",
       "0  MATCH (p:Person {name: 'Tom Hanks'})-[:ACTED_I...  \n",
       "1  MATCH (meg:Actor {name: \"Keanu Reeves\"})-[:ACT...  \n",
       "2  MATCH (p:Person {name: \"Halle Berry\"})-[:ACTED...  \n",
       "3  MATCH (m:Movie)-[:DIRECTED]-(d:Person) WHERE m...  \n",
       "4  MATCH (keanu:Person {name: \"Keanu Reeves\"})-[:...  "
      ]
     },
     "execution_count": 5,
     "metadata": {},
     "output_type": "execute_result"
    }
   ],
   "source": [
    "# Benchmark data\n",
    "test_df = pd.read_csv('test_data.csv', delimiter=\";\")\n",
    "test_df.head()"
   ]
  },
  {
   "cell_type": "code",
   "execution_count": 6,
   "id": "7c9890ab-2b20-4fc3-974c-b799f089cf42",
   "metadata": {},
   "outputs": [],
   "source": [
    "# Instantiate flow\n",
    "flow = NaiveText2CypherFlow(timeout=60)"
   ]
  },
  {
   "cell_type": "code",
   "execution_count": 7,
   "id": "761792cf-9f64-49d2-9d56-79cc7140b0f5",
   "metadata": {},
   "outputs": [
    {
     "name": "stderr",
     "output_type": "stream",
     "text": [
      "Processing questions: 100%|██████████| 50/50 [09:05<00:00, 10.91s/it]\n"
     ]
    }
   ],
   "source": [
    "# Get workflows generated answers\n",
    "results = []\n",
    "latencies = []\n",
    "ground_truth = []\n",
    "for i, row in tqdm(test_df.iterrows(), total=len(test_df), desc=\"Processing questions\"):\n",
    "    question = row['Question']\n",
    "    start = time.time()\n",
    "    try:\n",
    "        data = await flow.run(input=question)\n",
    "    except:\n",
    "        data = {\"answer\": \"timeout\", \"question\": question}\n",
    "    end = time.time()\n",
    "    latencies.append(end - start)\n",
    "    results.append(data)\n",
    "    try:\n",
    "        ground_truth.append(graph_store.structured_query(row['Cypher']))\n",
    "    except Exception as e:\n",
    "        ground_truth.append(\"missing\")"
   ]
  },
  {
   "cell_type": "code",
   "execution_count": 8,
   "id": "22362e3d-edab-41f7-9e6c-5bb34eeb49cf",
   "metadata": {},
   "outputs": [
    {
     "data": {
      "text/html": [
       "<div>\n",
       "<style scoped>\n",
       "    .dataframe tbody tr th:only-of-type {\n",
       "        vertical-align: middle;\n",
       "    }\n",
       "\n",
       "    .dataframe tbody tr th {\n",
       "        vertical-align: top;\n",
       "    }\n",
       "\n",
       "    .dataframe thead th {\n",
       "        text-align: right;\n",
       "    }\n",
       "</style>\n",
       "<table border=\"1\" class=\"dataframe\">\n",
       "  <thead>\n",
       "    <tr style=\"text-align: right;\">\n",
       "      <th></th>\n",
       "      <th>cypher</th>\n",
       "      <th>question</th>\n",
       "      <th>answer</th>\n",
       "      <th>ground_truth</th>\n",
       "      <th>latency</th>\n",
       "    </tr>\n",
       "  </thead>\n",
       "  <tbody>\n",
       "    <tr>\n",
       "      <th>0</th>\n",
       "      <td>MATCH (p:Person {name: 'Tom Hanks'})-[:ACTED_I...</td>\n",
       "      <td>Who acted in Tom Hanks’s highest-rated movie?</td>\n",
       "      <td>Based on the context provided, the actor who a...</td>\n",
       "      <td>[{'a.name': 'David Andrews', 'm.title': 'From ...</td>\n",
       "      <td>8.189747</td>\n",
       "    </tr>\n",
       "    <tr>\n",
       "      <th>1</th>\n",
       "      <td>MATCH (keanu:Person {name: 'Keanu Reeves'})-[:...</td>\n",
       "      <td>Which movie starring Keanu Reeves has the most...</td>\n",
       "      <td>Based on the context provided, the movie starr...</td>\n",
       "      <td>[{'Movie': 'Lake House, The', 'CommonActors': 2}]</td>\n",
       "      <td>8.595193</td>\n",
       "    </tr>\n",
       "    <tr>\n",
       "      <th>2</th>\n",
       "      <td>MATCH (p:Person {name: \"Halle Berry\"})-[:ACTED...</td>\n",
       "      <td>Who directed the most recent movie starring Ha...</td>\n",
       "      <td>The most recent movie starring Halle Berry, as...</td>\n",
       "      <td>[{'director': 'Brad Anderson', 'mostRecentMovi...</td>\n",
       "      <td>12.128535</td>\n",
       "    </tr>\n",
       "    <tr>\n",
       "      <th>3</th>\n",
       "      <td>MATCH (m:Movie)-[:DIRECTED]-(d:Person) \\nWHERE...</td>\n",
       "      <td>What is the highest-rated movie from the 1990s...</td>\n",
       "      <td>The highest-rated movie from the 1990s is **\"T...</td>\n",
       "      <td>[{'highestRatedMovie': 'Shawshank Redemption, ...</td>\n",
       "      <td>8.023361</td>\n",
       "    </tr>\n",
       "    <tr>\n",
       "      <th>4</th>\n",
       "      <td>MATCH (keanu:Person {name: 'Keanu Reeves'})-[:...</td>\n",
       "      <td>For all movies starring Keanu Reeves, find the...</td>\n",
       "      <td>Based on the context provided, the director wh...</td>\n",
       "      <td>[{'director': 'Lana Wachowski', 'collaboration...</td>\n",
       "      <td>9.239155</td>\n",
       "    </tr>\n",
       "  </tbody>\n",
       "</table>\n",
       "</div>"
      ],
      "text/plain": [
       "                                              cypher  \\\n",
       "0  MATCH (p:Person {name: 'Tom Hanks'})-[:ACTED_I...   \n",
       "1  MATCH (keanu:Person {name: 'Keanu Reeves'})-[:...   \n",
       "2  MATCH (p:Person {name: \"Halle Berry\"})-[:ACTED...   \n",
       "3  MATCH (m:Movie)-[:DIRECTED]-(d:Person) \\nWHERE...   \n",
       "4  MATCH (keanu:Person {name: 'Keanu Reeves'})-[:...   \n",
       "\n",
       "                                            question  \\\n",
       "0      Who acted in Tom Hanks’s highest-rated movie?   \n",
       "1  Which movie starring Keanu Reeves has the most...   \n",
       "2  Who directed the most recent movie starring Ha...   \n",
       "3  What is the highest-rated movie from the 1990s...   \n",
       "4  For all movies starring Keanu Reeves, find the...   \n",
       "\n",
       "                                              answer  \\\n",
       "0  Based on the context provided, the actor who a...   \n",
       "1  Based on the context provided, the movie starr...   \n",
       "2  The most recent movie starring Halle Berry, as...   \n",
       "3  The highest-rated movie from the 1990s is **\"T...   \n",
       "4  Based on the context provided, the director wh...   \n",
       "\n",
       "                                        ground_truth    latency  \n",
       "0  [{'a.name': 'David Andrews', 'm.title': 'From ...   8.189747  \n",
       "1  [{'Movie': 'Lake House, The', 'CommonActors': 2}]   8.595193  \n",
       "2  [{'director': 'Brad Anderson', 'mostRecentMovi...  12.128535  \n",
       "3  [{'highestRatedMovie': 'Shawshank Redemption, ...   8.023361  \n",
       "4  [{'director': 'Lana Wachowski', 'collaboration...   9.239155  "
      ]
     },
     "execution_count": 8,
     "metadata": {},
     "output_type": "execute_result"
    }
   ],
   "source": [
    "# Convert to DataFrame\n",
    "df = pd.DataFrame(results)\n",
    "df[\"ground_truth\"] = [str(el) for el in ground_truth]  # Dates are causing troubles\n",
    "df[\"latency\"] = latencies\n",
    "# Convert DataFrame to Hugging Face Dataset\n",
    "dataset = Dataset.from_pandas(df)\n",
    "df.head()"
   ]
  },
  {
   "cell_type": "code",
   "execution_count": 9,
   "id": "fab22702-a488-4848-902a-7eadf12925c5",
   "metadata": {},
   "outputs": [
    {
     "data": {
      "application/vnd.jupyter.widget-view+json": {
       "model_id": "b836d77cf1e9489dbb0459b3dda0bc97",
       "version_major": 2,
       "version_minor": 0
      },
      "text/plain": [
       "Evaluating:   0%|          | 0/50 [00:00<?, ?it/s]"
      ]
     },
     "metadata": {},
     "output_type": "display_data"
    }
   ],
   "source": [
    "result = evaluate(\n",
    "    dataset,\n",
    "    metrics=[\n",
    "        answer_relevancy\n",
    "    ],\n",
    "    llm=LlamaIndexLLMWrapper(OpenAI(model=\"gpt-4o-2024-11-20\", temperature=0))\n",
    ")"
   ]
  },
  {
   "cell_type": "code",
   "execution_count": 10,
   "id": "751eb90b-eb22-46c9-84ee-5a81fa339647",
   "metadata": {},
   "outputs": [
    {
     "data": {
      "text/plain": [
       "{'answer_relevancy': 0.6025}"
      ]
     },
     "execution_count": 10,
     "metadata": {},
     "output_type": "execute_result"
    }
   ],
   "source": [
    "result"
   ]
  },
  {
   "cell_type": "code",
   "execution_count": 11,
   "id": "a9e6cbb8-5d5d-416a-aec4-3f52e73fd9a3",
   "metadata": {},
   "outputs": [],
   "source": [
    "result_df = result.to_pandas()\n",
    "result_df.to_csv('benchmark_output.csv', index=False)"
   ]
  },
  {
   "cell_type": "code",
   "execution_count": 12,
   "id": "e1f6f502-48d6-440c-aae6-1f7cc161f2ab",
   "metadata": {},
   "outputs": [
    {
     "data": {
      "text/plain": [
       "<Axes: xlabel='answer_relevancy', ylabel='Count'>"
      ]
     },
     "execution_count": 12,
     "metadata": {},
     "output_type": "execute_result"
    },
    {
     "data": {
      "image/png": "[encoded data removed]",
      "text/plain": [
       "<Figure size 640x480 with 1 Axes>"
      ]
     },
     "metadata": {},
     "output_type": "display_data"
    }
   ],
   "source": [
    "sns.histplot(result_df['answer_relevancy'], kde=True)"
   ]
  },
  {
   "cell_type": "code",
   "execution_count": 14,
   "id": "d65d3743-4b63-4f98-b632-21adc1f668d1",
   "metadata": {},
   "outputs": [
    {
     "data": {
      "text/plain": [
       "<Axes: xlabel='latency', ylabel='Count'>"
      ]
     },
     "execution_count": 14,
     "metadata": {},
     "output_type": "execute_result"
    },
    {
     "data": {
      "image/png": "[encoded data removed]",
      "text/plain": [
       "<Figure size 640x480 with 1 Axes>"
      ]
     },
     "metadata": {},
     "output_type": "display_data"
    }
   ],
   "source": [
    "sns.histplot(df['latency'], kde=True)"
   ]
  },
  {
   "cell_type": "code",
   "execution_count": null,
   "id": "2a57e472-52c6-4da0-b6ef-d3122d5c4d5e",
   "metadata": {},
   "outputs": [],
   "source": []
  }
 ],
 "metadata": {
  "kernelspec": {
   "display_name": "Python 3 (ipykernel)",
   "language": "python",
   "name": "python3"
  },
  "language_info": {
   "codemirror_mode": {
    "name": "ipython",
    "version": 3
   },
   "file_extension": ".py",
   "mimetype": "text/x-python",
   "name": "python",
   "nbconvert_exporter": "python",
   "pygments_lexer": "ipython3",
   "version": "3.11.5"
  }
 },
 "nbformat": 4,
 "nbformat_minor": 5
}
